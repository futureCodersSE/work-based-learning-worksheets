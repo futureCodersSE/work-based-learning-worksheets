{
  "nbformat": 4,
  "nbformat_minor": 0,
  "metadata": {
    "colab": {
      "provenance": [],
      "include_colab_link": true
    },
    "kernelspec": {
      "name": "python3",
      "display_name": "Python 3"
    }
  },
  "cells": [
    {
      "cell_type": "markdown",
      "metadata": {
        "id": "view-in-github",
        "colab_type": "text"
      },
      "source": [
        "<a href=\"https://colab.research.google.com/github/futureCodersSE/work-based-learning-worksheets/blob/main/Noticeboard/Operators_2_T%26C.ipynb\" target=\"_parent\"><img src=\"https://colab.research.google.com/assets/colab-badge.svg\" alt=\"Open In Colab\"/></a>"
      ]
    },
    {
      "cell_type": "markdown",
      "metadata": {
        "id": "pSfWXOw033X_"
      },
      "source": [
        "# Operators - comparison and reusing variables\n",
        "\n",
        "---"
      ]
    },
    {
      "cell_type": "markdown",
      "metadata": {
        "id": "VMH4Ej5F4TxE"
      },
      "source": [
        "You have used the assignment operator (=) extensively so far.  Each time we create a variable and use the assignment operator we store data in that variable.   In general, so far, we have created new variables each time we create new data, even if it uses data from a variable we have used before and won’t need to use again after this assignment.\n",
        "\n",
        "There is a set of operators available for reusing variables to update the values in them but using the value that is already stored as part of the calculation to get the new value.\n",
        "\n",
        "An example of this is when we are adding new values onto a running total.\n",
        "\n",
        "Suppose the total we have got to is 14 and this is stored in a variable called total.\n",
        "\n",
        "*total = 14*\n",
        "\n",
        "When we have a new number to add to the total we don’t need to create a new total variable (assuming that we don’t need to remember interim totals).  We do this as follows:\n",
        "\n",
        "*next_number = 9*   \n",
        "*total += next_number*\n",
        "\n",
        "Python will add **next_number** to total and store the result back in **total**.\n",
        "\n",
        "We can do this with addition, subtraction, multiplication and division, floor division, exponentiation and even modulus\n",
        "In Python, we can use the following arithmetic operators:\n",
        "\n",
        "![Assignment operators](https://drive.google.com/uc?id=1Qq-UeMc2xbxKhNP87zY1loLSARaLsVse)\n"
      ]
    },
    {
      "cell_type": "markdown",
      "metadata": {
        "id": "FxXokYPYmdg9"
      },
      "source": [
        "Have a go at these exercises to help with using assignment operators"
      ]
    },
    {
      "cell_type": "markdown",
      "metadata": {
        "id": "btQ5UDOIngPW"
      },
      "source": [
        "---\n",
        "### Exercise 1 - running total  \n",
        "\n",
        "Write a function called **calculate_running_total()** which will:  \n",
        "\n",
        "*   assign the value 0 to a variable called **total**  \n",
        "*   print the `total`\n",
        "*   assign the value 10 to a variable called **number**   \n",
        "*   add `number` to `total`, storing the result in `total`  \n",
        "*   print the `total`\n",
        "*   assign the value 5 to `number`  \n",
        "*   add `number` to `total`, storing the result in `total`  \n",
        "*   print the `total`\n",
        "*   assign the value 3 to `number`  \n",
        "*   add `number` to  `total`, storing the result in `total`   \n",
        "*   print the `total`  \n",
        "\n",
        "*Hint:  you should only use TWO variables, **number** and **total** for this exercise*\n",
        "\n",
        "### Test  \n",
        "Following the instructions above the expected output is:  \n",
        "0  \n",
        "10  \n",
        "15  \n",
        "18  "
      ]
    },
    {
      "cell_type": "code",
      "metadata": {
        "id": "4ezcag1N3jpJ"
      },
      "source": [],
      "execution_count": null,
      "outputs": []
    },
    {
      "cell_type": "markdown",
      "metadata": {
        "id": "Jpi_mP6Pon7-"
      },
      "source": [
        "---\n",
        "### Exercise 2 - continuous decrease\n",
        "\n",
        "Write a function called **decrease_days_left()** which will:  \n",
        "\n",
        "*   assign the value 30 to a variable called **days_left**  \n",
        "*   print `days_left`  \n",
        "*   subtract 1 from `days_left``, storing the result in `days_left`  \n",
        "*   print `days_left`  \n",
        "*   subtract 1 from  `days_left`    \n",
        "*   print `days_left`\n",
        "*   subtract 1 from `days_left`\n",
        "*   print `days_left`  \n",
        "\n",
        "*Hint:  you should only use ONE variable, **days_left**, for this exercise*\n",
        "\n",
        "### Test:  \n",
        "Following the instructions above the expected output is:  \n",
        "30  \n",
        "29  \n",
        "28  \n",
        "27  "
      ]
    },
    {
      "cell_type": "code",
      "metadata": {
        "id": "ccQqTjZ1pYof"
      },
      "source": [],
      "execution_count": null,
      "outputs": []
    },
    {
      "cell_type": "markdown",
      "metadata": {
        "id": "8NqlcVKapYwt"
      },
      "source": [
        "---\n",
        "### Exercise 3 - decrease by factor\n",
        "\n",
        "Write a function called **decrease_by_factor()** which will:\n",
        "\n",
        "*  assign the value 4 to a variable called **factor** (this will be the number to decrease by)  \n",
        "*  assign the value 40 to a variable called **number** (this will be a starting value)\n",
        "*  print `number`\n",
        "*  divide  `number` by  `factor`, using floor division, storing the result in `number`  \n",
        "*  print  `number` \n",
        "*  divide  `number` by  `factor` again, storing the result again in `number`\n",
        "*  print  `number`\n",
        "\n",
        "*Hint: you should only use TWO variables, **factor** and **number** for this exercise* \n",
        "\n",
        "### Test\n",
        "Following the instructions above the expected output is:  \n",
        "40  \n",
        "10  \n",
        "2.5  "
      ]
    },
    {
      "cell_type": "code",
      "metadata": {
        "id": "gpHcnYilspDd"
      },
      "source": [],
      "execution_count": null,
      "outputs": []
    },
    {
      "cell_type": "markdown",
      "metadata": {
        "id": "Vmcjr-Tvt2ar"
      },
      "source": [
        "---\n",
        "### Exercise 4 - powers of 4\n",
        "\n",
        "Write a function called **generate_powers()** which will:\n",
        "\n",
        "*  assign the value 1 to a variable called **number**   \n",
        "*  assign the value 4 to a variable called **multiplier**  \n",
        "*  multiply `number` by `multiplier` and store the result in `number`\n",
        "*  print `number`  \n",
        "*  multiply `number` by `multiplier` and store the result in `number`  \n",
        "*  print `number`\n",
        "*  add instructions to multiply `number` by `multiplier`, store the result in `number` and print `number` 8 more times (*use copy and paste*)\n",
        "\n",
        "*Hint: later on you will learn how to use loops to reduce the amount of code* \n",
        "\n",
        "Expected output:  \n",
        "4  \n",
        "16  \n",
        "64  \n",
        "256  \n",
        "1024  \n",
        "4096  \n",
        "16384  \n",
        "65536  \n",
        "262144  \n",
        "1048576  \n",
        "\n"
      ]
    },
    {
      "cell_type": "code",
      "metadata": {
        "id": "cNFxYB6jVN-n"
      },
      "source": [],
      "execution_count": null,
      "outputs": []
    },
    {
      "cell_type": "markdown",
      "metadata": {
        "id": "rOu_PdThVOOT"
      },
      "source": [
        "# Comparison operators\n",
        "\n",
        "These are extensively used for decision making and repetition and allow us to compare variables with each other and gain a *True* or *False* result.\n",
        "\n",
        "The following Python comparison operators are available:\n",
        "![ComparisonOperators](https://drive.google.com/uc?id=1-g11Ad0t1h4hYq6Eh29A6BM751Yyuq8R)\n",
        "\n",
        "Have a go at these exercises for practice.\n",
        "\n"
      ]
    },
    {
      "cell_type": "markdown",
      "metadata": {
        "id": "lKPIAYRAXTYd"
      },
      "source": [
        "---\n",
        "### Exercise 5 - is it afternoon?\n",
        "\n",
        "Write a function called **is_afternoon()** which will:  \n",
        "\n",
        "*  assign the value 1756 to a variable called **time** (this number is a time in 24 hour clock format, as a whole number   \n",
        "*  get the **hour** using floor division  \n",
        "*  assign the result of comparing the hour to 12 (is it after 12?) to a boolean variable called **afternoon**  \n",
        "*  print the message \"It is afternoon\", followed by True or False depending on the result stored in `afternoon`  \n",
        "\n",
        "*Hint:  for this exercise 12 is in the afternoon even when the time is 1200*\n",
        "\n",
        "### Test  \n",
        "If you follow the instructions above, the expected output will be  \n",
        "\n",
        "It is afternoon True"
      ]
    },
    {
      "cell_type": "code",
      "metadata": {
        "id": "IdJoVYZbYSMk"
      },
      "source": [],
      "execution_count": null,
      "outputs": []
    },
    {
      "cell_type": "markdown",
      "metadata": {
        "id": "5b-WBPkvY0QP"
      },
      "source": [
        "---\n",
        "### Exercise 6 - test for a known number (e.g. has a notice not yet been clicked on) \n",
        "\n",
        "The code cell below contains the definition of a function called **was_clicked_on(notice_number, clicks)** which has a variable called `number` (in the brackets).  \n",
        "\n",
        "Complete the function **was_clicked_on(notice_number)** so that it will:  \n",
        "\n",
        "*  assign True or False to the boolean variable **accessed**, depending on whether `clicks` is 0  \n",
        "*  print the message \"Notice number\" `notice_number` \"has not been accessed? \" followed by the value of the variable `accessed`  \n",
        "\n",
        "*Later you will learn to choose from different instructions depending on whether the result was True or False*\n",
        "\n",
        "### Test 1  \n",
        "If you have followed the instructions above the expected output is: \n",
        "\n",
        "Notice number 500 has not been accessed? True\n",
        "\n",
        "### Test 2\n",
        "* THIS IS A NEW TECHNIQUE - you haven't been asked to do this before - CHANGE the second number in the brackets on the last line of the code to 3 (so it will now read `was_clicked_on(500, 3)`"
      ]
    },
    {
      "cell_type": "code",
      "metadata": {
        "id": "S3ps2BsHZYMn"
      },
      "source": [
        "def was_clicked_on(notice_number, clicks):\n",
        "  # add your code here\n",
        "\n",
        "\n",
        "\n",
        "was_clicked_on(500, 0)"
      ],
      "execution_count": null,
      "outputs": []
    },
    {
      "cell_type": "markdown",
      "metadata": {
        "id": "4-cbhb_abEE9"
      },
      "source": [
        "---\n",
        "### Exercise 7 - not the same\n",
        "\n",
        "Write a function called **show_case_sensitivity()** which will:  \n",
        "\n",
        "*  assign the value \"bradley\" to a variable called **name** in all lower case letters  \n",
        "*  assign the value \"Bradley\" to a variable called **capitalised_name** ( Bradley has a leading capital letter)    \n",
        "*  assign the result of comparing the two names to see if they are the same to a boolean variable called **same_names**  \n",
        "*  print the message \"These are the same name\", followed by True or False depending on the result  stored in `same_names` \n",
        "\n",
        "### Test  \n",
        "If you followed the instructions above, the expected output is:  \n",
        "\n",
        "These are the same name False\n",
        "\n",
        "***Note***:  *this may seem incorrect, as we know these are the same name.  HOWEVER, the computer is not clever enough to recognise this and the code will need to deal with it by using instructions to make them both the same case.* "
      ]
    },
    {
      "cell_type": "code",
      "metadata": {
        "id": "jDrmvFjnQTSs"
      },
      "source": [],
      "execution_count": null,
      "outputs": []
    },
    {
      "cell_type": "markdown",
      "metadata": {
        "id": "sxBK7XDGQT8p"
      },
      "source": [
        "---\n",
        "### Exercise 8 - check an answer to a maths problem  \n",
        "\n",
        "The code cell below has a definition of a function called **check_size(screen_area)** where `screen_area` is a variable that can be used in the function:  \n",
        "\n",
        "*  assign the value 5.6 to a float variable called **x**  \n",
        "*  assign the value 6.2 to a float variable called **y**    \n",
        "*  use arithmetic operators to calculate the **size** to:  x squared plus y to the power of 3  \n",
        "*  round the size to 3 decimal places and store the result back in `size` \n",
        "*  assign the result of checking that the `screen_area` is **not** the same as the real size to a variable called **wrong_size**      \n",
        "*  print the message \"Wrong size? \", followed by True if the answer was incorrect or False if it was correct (stored in `wrong_size`)\n",
        "\n",
        "### Test 1\n",
        "If you followed the instructions above, the expected output is:    \n",
        "\n",
        "Not the right answer? True\n",
        "\n",
        "### Test 2:  \n",
        "The correct answer to the maths calculate is 269.688.  Test that you get the right output for a correct screen_size by changing 200 to 269.688 in the brackets in the function call (change the last line to - check_size(269.688))  \n",
        "\n",
        "The new expected output is:  \n",
        "\n",
        "Not the right answer? False  \n"
      ]
    },
    {
      "cell_type": "code",
      "metadata": {
        "id": "txty2Qc6wRQv"
      },
      "source": [
        "def check_size(screen_area):\n",
        "  # add your code here\n",
        "\n",
        "\n",
        "check_size(200)"
      ],
      "execution_count": null,
      "outputs": []
    },
    {
      "cell_type": "markdown",
      "metadata": {
        "id": "4K27Wxr0yBEu"
      },
      "source": [
        "---\n",
        "## Logical operators\n",
        "\n",
        "It is often necessary to make more than one comparison.  For instance, we might need to know if a number is between two limits or if one of two inputs has been incorrectly made and so the user needs to input again. \n",
        "\n",
        "Python provides a set of *logical operators* that will be used extensively later on but for now we will introduce the ***and*** operator and the ***or*** operator\n",
        "\n",
        "The result of a logical operation, like a comparison, will be either True or False.\n",
        "\n",
        "The instruction below will assign a boolean value (True or False) to the variable **valid** depending on whether a **number** is between 1 and 10.  It needs to include 1, 10 and all the numbers in between.\n",
        "\n",
        "`valid = number >= 1 and number <=10`\n",
        "\n",
        "The instruction below will assign a boolean value (True or False) to the variable **outlier** depending on whether a **number** is outside the range 100 to 200.  This number will be an outlier if it is less than 100 or greater than 200.\n",
        "\n",
        "`outlier = number < 100 or number > 200`\n",
        "\n",
        "*Note:  the and/or is surrounded by two comparisons and can't be part of the comparison.  outlier = number < 100 or > 200 is NOT understood by Python, there is only ONE complex comparison here when there must be TWO*  "
      ]
    },
    {
      "cell_type": "markdown",
      "metadata": {
        "id": "BJp2mUtj1Ahg"
      },
      "source": [
        "---\n",
        "### Exercies 9 - two comparisons\n",
        "The code cell below contains the definition of a function called **check_in_range(number)** which will:\n",
        "\n",
        "*  assign the result of checking that the `number` is between 1 and 12 to a variable called **in_range**  \n",
        "*  print the message \"Valid number: \" followed by True if the answer was True or False if not  \n",
        "\n",
        "### Test 1  \n",
        "If you followed the instructions above and the code is running with 6 (the function call has 6 in its brackets), then the expected output is:  \n",
        " \n",
        "Valid number? True  \n",
        "\n",
        "### Test 2  \n",
        "Change the number in the brackets in the function call (ie change 6 to 23).  The expected output is now:  \n",
        "\n",
        "Valid number? False  "
      ]
    },
    {
      "cell_type": "code",
      "metadata": {
        "id": "AV-ZS1kqyBeN"
      },
      "source": [
        "def check_in_range(number):\n",
        "  # add your code here\n",
        "\n",
        "\n",
        "\n",
        "check_in_range(6)"
      ],
      "execution_count": null,
      "outputs": []
    },
    {
      "cell_type": "markdown",
      "metadata": {
        "id": "7I_nPtfP13hN"
      },
      "source": [
        "---\n",
        "### Exercise 10 - finding the outlier (a value that is outside the normal range of values (e.g. 2.4 metres is an outlier if it is a human height, it is way above average)\n",
        "\n",
        "The code cell below contains the definition of a function called **identify_outlier(number)** which will:\n",
        "  \n",
        "*  assign the result of checking that the `number` is outside the range 20 to 50 to a boolean variable called **outlier**  \n",
        "*  print the message \"Outlier? \" followed by the value of `outlier`  \n",
        "\n",
        "### Test 1 \n",
        "*If it is expected that, on average, a notice will be clicked on 35 times, anything outside the range 20 to 50 might be considered an outlier (either way above average or way below average)*  \n",
        "\n",
        "If you have followed the instructions above and have run the code, the expected output will be  \n",
        "\n",
        "Outlier? False  *(32 is within the range 20 to 50)*\n",
        "\n",
        "### Test 2   \n",
        "\n",
        "Change the number in the function call brackets on the last line from 32 to 16.  The expected output will now be:    \n",
        " \n",
        "Outlier? True  *(16 is outside the range 20 to 50)*  "
      ]
    },
    {
      "cell_type": "code",
      "source": [
        "def identify_outlier(number):\n",
        "  # add your code here\n",
        "\n",
        "\n",
        "identify_outlier(32)"
      ],
      "metadata": {
        "id": "9IF4RE0PxOzZ"
      },
      "execution_count": null,
      "outputs": []
    }
  ]
}