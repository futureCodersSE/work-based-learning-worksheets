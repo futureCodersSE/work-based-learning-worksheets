{
  "nbformat": 4,
  "nbformat_minor": 0,
  "metadata": {
    "colab": {
      "provenance": [],
      "include_colab_link": true
    },
    "kernelspec": {
      "name": "python3",
      "display_name": "Python 3"
    },
    "language_info": {
      "name": "python"
    }
  },
  "cells": [
    {
      "cell_type": "markdown",
      "metadata": {
        "id": "view-in-github",
        "colab_type": "text"
      },
      "source": [
        "<a href=\"https://colab.research.google.com/github/futureCodersSE/work-based-learning-worksheets/blob/main/Noticeboard/User_defined_functions_T%26C.ipynb\" target=\"_parent\"><img src=\"https://colab.research.google.com/assets/colab-badge.svg\" alt=\"Open In Colab\"/></a>"
      ]
    },
    {
      "cell_type": "markdown",
      "metadata": {
        "id": "_mb8Es9TZFdY"
      },
      "source": [
        "# User-defined functions"
      ]
    },
    {
      "cell_type": "markdown",
      "metadata": {
        "id": "yDPndJACZJKA"
      },
      "source": [
        "---\n",
        "During this course, you have already been writing user-defined functions.  We have introduced these early so that they become second nature to use.  Python is a 'scripting' language, which means that you can just write a list of instructions and click run and it will just run them from first to last.\n",
        "\n",
        "Many other programming languages, including C, C++ and Java, have a structure where you must group instructions into a named set (like a function) before you can run them.  It will be easier to learn new languages later if you have an understanding of the organisation of code into functions.\n",
        "\n",
        "## Definition\n",
        "\n",
        "A function is a set of programming instructions, grouped together and named so that, in essence, they form a new instruction that can be use in other functions.\n",
        "\n",
        "A function should:\n",
        "*   do *one* particular thing (e.g. generate one new piece of data)\n",
        "*   have a *name* that indicates what it does, that name should contain a verb (e.g. get_username(), calculate_sum() )\n",
        "*   accept a number of data items as *parameters* in its brackets\n",
        "*   *return* the one new piece of data it produces or None if no new data is produced.\n",
        "\n",
        "---\n",
        "## Examples\n",
        "Run the code for each to see what it does.\n",
        "\n",
        "\n",
        "\n",
        "\n"
      ]
    },
    {
      "cell_type": "code",
      "metadata": {
        "id": "BRlxHaF9YtoB"
      },
      "source": [
        "def get_username():\n",
        "  username = input(\"Enter your username: \")\n",
        "  return username\n",
        "\n",
        "username = get_username()\n",
        "print(username)"
      ],
      "execution_count": null,
      "outputs": []
    },
    {
      "cell_type": "markdown",
      "metadata": {
        "id": "RsSaHvS_bx0i"
      },
      "source": [
        "---\n"
      ]
    },
    {
      "cell_type": "code",
      "metadata": {
        "id": "DraANPGIbd13"
      },
      "source": [
        "def calculate_sum(num1, num2):\n",
        "  sum = num1 + num2\n",
        "  return sum\n",
        "\n",
        "total = calculate_sum(4, 7)\n",
        "print(total)"
      ],
      "execution_count": null,
      "outputs": []
    },
    {
      "cell_type": "markdown",
      "metadata": {
        "id": "IaybFpHvbziA"
      },
      "source": [
        "---\n"
      ]
    },
    {
      "cell_type": "code",
      "metadata": {
        "id": "pEldozw1bw9K"
      },
      "source": [
        "def show_score(score):\n",
        "  print(\"Your current score is: \", score)\n",
        "  return None\n",
        "\n",
        "show_score(50)"
      ],
      "execution_count": null,
      "outputs": []
    },
    {
      "cell_type": "markdown",
      "metadata": {
        "id": "S54v0BzZfcle"
      },
      "source": [
        "---\n",
        "## Passing data to functions and returning data from functions\n",
        "\n",
        "Data is passed to a function through its brackets.  The brackets contain the parameter list.  The list can contain zero or more parameters.\n",
        "\n",
        "When the function is called, the parameters (either real values or variables holding values) are added to the function call.  \n",
        "\n",
        "When the function has done its processing it will **return** data to be stored and used elsewhere.  The return instruction stops the function running, wherever it appears in the code, and has the effect of turning the function into a new piece of data.  So:  \n",
        "\n",
        "```\n",
        "answer = calculate_answer(5,7,\"+\")\n",
        "```\n",
        "will run a function called `calculate_anwer` giving it three bits of data (2 numbers and a mathematical symbols).  Once the `calculate_answer` function has run, its returned result will be stored in the variable called `answer`\n"
      ]
    },
    {
      "cell_type": "code",
      "metadata": {
        "id": "nPaM_x2cg2EI"
      },
      "source": [
        "def calculate_answer(num1, num2, operator):\n",
        "  if operator == \"+\":\n",
        "     return num1 + num2\n",
        "  elif operator == \"-\":\n",
        "     return num1 - num2\n",
        "  elif operator == \"*\":\n",
        "     return num1 * num2\n",
        "  elif operator == \"/\":\n",
        "     return num1 / num2\n",
        "  else:\n",
        "     return -999999\n",
        "\n",
        "answer = calculate_answer(5,7,\"+\")\n",
        "print(answer)"
      ],
      "execution_count": null,
      "outputs": []
    },
    {
      "cell_type": "markdown",
      "metadata": {
        "id": "4u3jcpUWg56N"
      },
      "source": [
        "To pass values easily to the function, just add the values in the same order that they are listed in the function definition.  Make sure that the values you pass in are of a type that the function obviously expects."
      ]
    },
    {
      "cell_type": "markdown",
      "metadata": {
        "id": "2pN0AVaTh-HP"
      },
      "source": [
        "---\n",
        "## Global and local variables\n",
        "\n",
        "Each variable in a Python program has a **scope**.  This determines which parts of the program can 'see' that variable. The advantage of variable scope is that it:\n",
        "*   can protect variables from being changed elsewhere in the program due to adding a variable with the same name\n",
        "*   reduces the number of different variable names needed.  If a total in one function is totally unconnected to a total in a different function they can have the same name and only exist while the function each is in is actually running.  This also saves memory.\n",
        "\n"
      ]
    },
    {
      "cell_type": "code",
      "metadata": {
        "colab": {
          "base_uri": "https://localhost:8080/"
        },
        "id": "Ww0WCrVBhNLm",
        "outputId": "dd638b9a-8592-4715-b901-fe05f8da7575"
      },
      "source": [
        "def calculate_sum(num1, num2):\n",
        "  # add the parameters together and return the total\n",
        "  total = num1 + num2  # here total is a local variable\n",
        "  print(\"Inside the function, local total\", total)\n",
        "  return total\n",
        "\n",
        "total = 0  # here total is a global variable (declared outside any function)\n",
        "\n",
        "# call the calculate_sum function, storing the result in the global variable\n",
        "new_total = calculate_sum(10, 20)\n",
        "print(\"Outside the function, global total\", total)\n",
        "print(\"Outside the function, global new_total, returned from function\", new_total)"
      ],
      "execution_count": null,
      "outputs": [
        {
          "output_type": "stream",
          "text": [
            "Inside the function, local total 30\n",
            "Outside the function, global total 0\n",
            "Outside the function, global new_total, returned from function 30\n"
          ],
          "name": "stdout"
        }
      ]
    },
    {
      "cell_type": "markdown",
      "metadata": {
        "id": "VQ2bk-Qo7jC7"
      },
      "source": [
        "---\n",
        "# Have a go"
      ]
    },
    {
      "cell_type": "markdown",
      "metadata": {
        "id": "iK9GF4T274Na"
      },
      "source": [
        "---\n",
        "### Exercise 1 - get valid digit\n",
        "\n",
        "Write a function called **input_digit()** which will:\n",
        "*  ask the user for a **number** that must be between 0 and 9, if the number is not between 0 and 9 it will keep reading until it gets a valid `number`\n",
        "*  return the valid `number` to be printed by the caller \n",
        "\n",
        "*Hint:  your function will need a while loop in it but will not print the valid digit as the calling instruction will print the vaid digit when it is returned from the function*\n",
        "\n",
        "## Test:  \n",
        "Run the function and enter these numbers(two invalid numbers so the user will be asked to try again twice):  \n",
        "33  \n",
        "-1  \n",
        "8  \n",
        "\n",
        "The expected output is:  \n",
        "```\n",
        "That number is not valid, try again  \n",
        "That number is not valid, try again  \n",
        "8  \n",
        "```"
      ]
    },
    {
      "cell_type": "code",
      "metadata": {
        "id": "lwN-VvkH8Skt"
      },
      "source": [],
      "execution_count": null,
      "outputs": []
    },
    {
      "cell_type": "markdown",
      "metadata": {
        "id": "v-qE3qQ58THx"
      },
      "source": [
        "---\n",
        "### Exercise 2 - input range\n",
        "\n",
        "Write a function called **input_value(min, max)** which will:  \n",
        "*  read a **number** that must be between `min` and `max` and only return when it has a valid `number`.  The caller will print the `number`.\n",
        "\n",
        "## Test:  \n",
        "Run the function with the numbers 3 and 24 in the brackets (so min = 3 and max = 24)  \n",
        "\n",
        "Enter the following three numbers (2 are out of range and the last is in range)  \n",
        "1  \n",
        "45  \n",
        "20  \n",
        "\n",
        "the expected output is:  \n",
        "```\n",
        "Number is out of range, try again  \n",
        "Number is out of range, try again  \n",
        "20\n",
        "```"
      ]
    },
    {
      "cell_type": "code",
      "metadata": {
        "id": "PKAlW0sr9XR1"
      },
      "source": [],
      "execution_count": null,
      "outputs": []
    },
    {
      "cell_type": "markdown",
      "metadata": {
        "id": "MXhunQBG9XkU"
      },
      "source": [
        "---\n",
        "### Exercise 3 - re-using the function\n",
        "\n",
        "Using the same function as in Exercise 2 above, try running it with these function calls:\n",
        "\n",
        "```\n",
        "value1 = input_value(1,10)\n",
        "value2 = input_value(11,20)\n",
        "value3 = input_value(21,30)\n",
        "print(value1, value2, value3)\n",
        "```"
      ]
    },
    {
      "cell_type": "code",
      "metadata": {
        "id": "oVpQJ3ZM9xCJ"
      },
      "source": [],
      "execution_count": null,
      "outputs": []
    },
    {
      "cell_type": "markdown",
      "metadata": {
        "id": "P0QwTt7O9xUz"
      },
      "source": [
        "---\n",
        "### Exercise 4 - generate random even number\n",
        "\n",
        "Write a function called **generate_even_number()** that will generate a random, even **number** and return it to the caller, which will print it.\n",
        "\n",
        "*Hint: the function will need to generate the number, check it is an even number, repeat if not and return the number once it has got an even number*.\n",
        "\n",
        "## Test\n",
        "Run the function and check that the only printed number is an even number.  Try doing this a number of times to ensure that it always gives an even number."
      ]
    },
    {
      "cell_type": "code",
      "metadata": {
        "id": "1ccTQxUa-Ok7"
      },
      "source": [],
      "execution_count": null,
      "outputs": []
    },
    {
      "cell_type": "markdown",
      "metadata": {
        "id": "LYLGRytk-Ot6"
      },
      "source": [
        "---\n",
        "### Exercise 5 - biggest of 3 numbers\n",
        "\n",
        "Write a function called **check_largest(num1, num2, num3)** which will:  \n",
        "*  select the largest of `num1`, `num2` and `num3` and store this in a variable called **largest**\n",
        "*  return `largest` to the caller, where it will be printed. \n",
        "\n",
        "## Test 1:  \n",
        "\n",
        "`check_largest(3,5,8)`\n",
        "\n",
        "will give expected output 8\n",
        "\n",
        "## Test 2:\n",
        "\n",
        "`check_largest(5,7,2)`\n",
        "\n",
        "will give expected output 7\n",
        "\n",
        "## Test 3:\n",
        "\n",
        "`check_largest(123,45,122)`\n",
        "\n",
        "will give expected output 123  "
      ]
    },
    {
      "cell_type": "code",
      "metadata": {
        "id": "S_LeqEVd__Cc"
      },
      "source": [],
      "execution_count": null,
      "outputs": []
    },
    {
      "cell_type": "markdown",
      "metadata": {
        "id": "cbrFvknfAO05"
      },
      "source": [
        "---\n",
        "### Exercise 6 - average of 5 numbers\n",
        "\n",
        "Write a function calculate_average(num1, num2, num3, num4, num5) which will calculate the average of the 5 numbers given.  \n",
        "\n",
        "## Test 1:  \n",
        "`\n",
        "`calculate_average(1,2,3,4,5)`\n",
        "\n",
        "will give expected output 3.0\n",
        "\n",
        "## Test 2:\n",
        "`calculate_average(10002, 30004, 5005, 3333333, 12345)` \n",
        "\n",
        "will give expected output 678137.8  "
      ]
    },
    {
      "cell_type": "code",
      "metadata": {
        "id": "BFTEfne8APF5"
      },
      "source": [],
      "execution_count": null,
      "outputs": []
    },
    {
      "cell_type": "markdown",
      "metadata": {
        "id": "Z58a7qa1BQ6j"
      },
      "source": [
        "---\n",
        "### Exercise 7 - calculate percentage\n",
        "\n",
        "The TCH noticeboard app team will want to be able to get data on the percentage of notices that have been click on in one particular category, to help to see what type of notice is the most popular\n",
        "\n",
        "Write a function called **calculate_percentage(num_clicked, total)** which will:\n",
        "\n",
        "*  be given the values num_clicked and total in the functions' parameters \n",
        "*  check that num_clicked isn't greater than total (this would be an error) and print an error message if it is\n",
        "*  calculate the percentage num_clicked is of the total (num_clicked divided by total then multiplied by 100)\n",
        "*  return the `percentage`\n",
        "\n",
        "## Test 1:  \n",
        "Run the function with num_clicked 35 and total 350  \n",
        "(e.g. `calculate_percentage(35, 350)` )\n",
        " \n",
        "the expected output is:  \n",
        "10%\n",
        "\n",
        "## Test 2:  \n",
        "Run the function with num_clicked 350 and total 35  \n",
        "(e.g. `calculate_percentage(350, 35)` ) \n",
        "\n",
        "the expected output is:  \n",
        "There has been an error, num_clicked is higher than total  \n",
        "\n",
        "## Test 3:\n",
        "Run the function with num_clicked 0 and total 200  \n",
        "(e.g. `calculate_percentage(0, 200)` )\n",
        " \n",
        "the expected output is:  \n",
        "0%"
      ]
    },
    {
      "cell_type": "code",
      "metadata": {
        "id": "lSHhdyhUBRKr"
      },
      "source": [],
      "execution_count": null,
      "outputs": []
    },
    {
      "cell_type": "markdown",
      "metadata": {
        "id": "NG2u2VT-CwO6"
      },
      "source": [
        "---\n",
        "### Exercise 8 - reverse a string\n",
        "\n",
        " Write a function called **reverse_string(word)** which will:  \n",
        " \n",
        " *  reverse the letters in the word  \n",
        " *  return the **reversed** `word` for printing\n",
        "\n",
        "[Help if you need it](https://www.w3schools.com/python/python_howto_reverse_string.asp)  \n",
        "\n",
        " ## Test 1  \n",
        " Run the function with the word **tiger**  \n",
        "\n",
        " Expected output:  \n",
        " `regit`\n",
        "\n",
        " ## Test 2:  \n",
        " Run the function with the word **Expected**\n",
        "\n",
        " Expected output:  \n",
        " `detcepxE`"
      ]
    },
    {
      "cell_type": "code",
      "metadata": {
        "id": "OdHYWCJMCwaI"
      },
      "source": [],
      "execution_count": null,
      "outputs": []
    },
    {
      "cell_type": "markdown",
      "metadata": {
        "id": "QPHDjtXXEJ92"
      },
      "source": [
        "---\n",
        "### Exercise 9 - find number of pages\n",
        "\n",
        "Write a function called **calculate_pages(num_notices)** which will:\n",
        "\n",
        "*  create a variable called **notices_per_page** and assign the value 12\n",
        "*  calculate the number of pages required to show the number of notices given in the brackets\n",
        "*  there must be a page for all notices even if the last page is not full\n",
        "*  there must be no empty pages\n",
        "*  the number of notices must be positive, otherwise an error must be shown     \n",
        "\n",
        "## Test 1:  \n",
        "Run the function with the num_notices set at 50 (`calculate_pages(50)` )  \n",
        "\n",
        "Expected output:  \n",
        "`5 pages`\n",
        "\n",
        "## Test 2:  \n",
        "Run the function with the num_notices set at -5    \n",
        "\n",
        "Expected output:  \n",
        "`There was an error, number of notices must be positive`\n",
        "\n",
        "## Test 3:  \n",
        "Run the function with the num_notices set at 0    \n",
        "\n",
        "Expected output:  \n",
        "`0 pages`\n",
        "\n",
        "## Test 4:  \n",
        "Run the function with the num_notices set at 60    \n",
        "\n",
        "Expected output:  \n",
        "`5 pages`\n"
      ]
    },
    {
      "cell_type": "code",
      "metadata": {
        "id": "QAln19ReEKH5"
      },
      "source": [],
      "execution_count": null,
      "outputs": []
    },
    {
      "cell_type": "markdown",
      "metadata": {
        "id": "x-JvvWUVFvY8"
      },
      "source": [
        "---\n",
        "### Exercise 10 - palindrome  \n",
        "\n",
        "Write a function called **is_palindrome(word)** which will return True if the `word` passed in is a palindrome (ie it reads the same in reverse) and False if not.\n",
        "\n",
        "*Hint:  remember that upper case and lower case letters are not seen as the same by Python, there are [case conversion](https://www.codecademy.com/learn/learn-python-3/modules/learn-python3-strings/cheatsheet) functions you can use to help with this.*\n",
        "\n",
        "## Test 1:  \n",
        "is_palindrome(\"racecar\")  \n",
        "\n",
        "Expected output:  \n",
        "True\n",
        "\n",
        "## Test 2:  \n",
        "is_palindrome(\"Racecar\")  \n",
        "\n",
        "Expected output:  \n",
        "True\n",
        "\n",
        "## Test 3:  \n",
        "is_palindrome(\"banana\")  \n",
        "\n",
        "Expected output:  \n",
        "False\n",
        " "
      ]
    },
    {
      "cell_type": "code",
      "metadata": {
        "id": "Jx0ZSYl0FvjD"
      },
      "source": [],
      "execution_count": null,
      "outputs": []
    }
  ]
}