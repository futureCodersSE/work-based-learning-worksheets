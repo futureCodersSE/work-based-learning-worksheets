{
  "nbformat": 4,
  "nbformat_minor": 0,
  "metadata": {
    "colab": {
      "provenance": [],
      "include_colab_link": true
    },
    "kernelspec": {
      "name": "python3",
      "display_name": "Python 3"
    }
  },
  "cells": [
    {
      "cell_type": "markdown",
      "metadata": {
        "id": "view-in-github",
        "colab_type": "text"
      },
      "source": [
        "<a href=\"https://colab.research.google.com/github/futureCodersSE/work-based-learning-worksheets/blob/main/Noticeboard/Selection_Challenges_T%26C.ipynb\" target=\"_parent\"><img src=\"https://colab.research.google.com/assets/colab-badge.svg\" alt=\"Open In Colab\"/></a>"
      ]
    },
    {
      "cell_type": "markdown",
      "metadata": {
        "id": "-QxAKPD8DZfj"
      },
      "source": [
        "# Three selection challenges\n",
        "\n",
        "---\n"
      ]
    },
    {
      "cell_type": "markdown",
      "metadata": {
        "id": "2KYUALILDcM9"
      },
      "source": [
        "### Challenge 1 - access code format  \n",
        "\n",
        "Users of the noticeboard app will login in with an email address and an access code.  \n",
        "\n",
        "Write a function called **check_valid_code(access_code)** which will check the validity of an **access_code** given to it in its brackets.\n",
        "\n",
        "Rules for a valid access code are:  \n",
        "\n",
        "*  At least 1 letter between [A-Z].\n",
        "*  At least 1 number between [0-9].\n",
        "*  At least 1 character from [$#@].\n",
        "*  Length 12 characters. \n",
        "\n",
        "Print a message to state if the `access code` is valid and, if not, where was the first error (A-Z missing or 0-9 missing, etc).\n",
        "\n",
        "*Hint:  to test if a set of characters is present in an access_code String, you can use re.search('[character set]', `access_code`)*  \n",
        "\n",
        "Example:   \n",
        "*if re.search('[A-Z]',`access_code`):*    \n",
        "if there is at least 1 character A-Z in the `access_code`, re.search will not be None.\n",
        "\n",
        "**re** is a pre-written Python function for pattern searching in Strings.  It has been imported for you in the code cell below.  \n",
        "\n",
        "### Test 1\n",
        "Run the function with the following call:  \n",
        "\n",
        "`check_valid_code(\"ABC032RF$#12\")`\n",
        "\n",
        "The expected output is \"The code is valid\"\n",
        "\n",
        "### Test 2\n",
        "Run the function with the following call:  \n",
        "\n",
        "`check_valid_code(\"ABC$$PFD#@\")`\n",
        "\n",
        "The expected output is \"The code is invalid, it has no number digits\"  \n",
        "\n",
        "### Test 3\n",
        "Run the function with the following call:  \n",
        "\n",
        "`check_valid_code(\"ABC$$12PFD#@3\")`\n",
        "\n",
        "The expected output is \"The code is invalid, it has the wrong number of characters\" "
      ]
    },
    {
      "cell_type": "code",
      "metadata": {
        "id": "8wBK9IA4BO2e"
      },
      "source": [
        "import re\n",
        "\n",
        "# add your check_valid_code() function and call below here\n",
        "\n",
        "\n",
        "\n"
      ],
      "execution_count": null,
      "outputs": []
    },
    {
      "cell_type": "markdown",
      "metadata": {
        "id": "f0R4GYTEFQS-"
      },
      "source": [
        "---\n",
        "### Challenge 2 - locator  \n",
        "\n",
        "When a user first accesses the app, their GPS position will be used to determine which location they are in.  \n",
        "\n",
        "GPS coordinates are expressed as a latitude (lat) and a longitude (lon).  \n",
        "\n",
        "A rectangular area covering Medway can be defined to have the following bounding co-ordinates:\n",
        "\n",
        "\n",
        "![Map](https://drive.google.com/uc?id=1XCgYy0dJ_8aanusTCbYSub6W9SGw_fov)\n",
        "\n",
        "\n",
        "Top (lat):  51.48586836145452   \n",
        "Left (lon): 0.46367947236595175  \n",
        "Bottom (lat): 51.33662496338446  \n",
        "Right (lon): 0.7225833875971361  \n",
        "\n",
        "Write a function called **locate_user(lat, lon)** which will be given the co-ordinates for the user's current position and will decide, and print, if that user is located in Medway or not.  \n",
        "\n",
        "\n",
        "### Test 1\n",
        "Run the function with these co-ordinates:\n",
        "\n",
        "`locate_user(51.42015170639725, 0.4855652376565944)`\n",
        "\n",
        "The expected output is that \"This user is in Medway\"  \n",
        "\n",
        "### Test 2\n",
        "Run the function with these co-ordinates:\n",
        "\n",
        "`locate_user(51.44709781078563, 0.19080357058032646)`\n",
        "\n",
        "The expected output is that \"This user is NOT in Medway\"  "
      ]
    },
    {
      "cell_type": "code",
      "metadata": {
        "id": "oBgl4ro1DVL0"
      },
      "source": [],
      "execution_count": null,
      "outputs": []
    },
    {
      "cell_type": "markdown",
      "metadata": {
        "id": "hr2EotkqG33l"
      },
      "source": [
        "---\n",
        "### Challenge 3 - which season\n",
        "\n",
        "This won't be in the first version of the app but could be a nice to have feature for a later version.  An automatic category could choose notices by season.\n",
        "\n",
        "Write a function called **determine_season(month, day)** which will be given two integers representing a **month** and **day** and will print the season for that month and day.\n",
        "\n",
        "*Note*:  for this exercise the season dates are:\n",
        "*  Winter December 21 to March 20    \n",
        "*  Spring March 21 to June 20  \n",
        "*  Summer June 21 to September 20  \n",
        "*  Autumn September 21 to December 20\n",
        "\n",
        "### Test 1:  \n",
        "Run the function to check the date 31st July                     \n",
        "\n",
        "`determine_season(7, 31)`                                                     \n",
        "\n",
        "Expected output:  \n",
        "Season is summer  \n",
        "\n",
        "### Test 2:  \n",
        "Run the function to check the date 2nd November                     \n",
        "\n",
        "`determine_season(11, 2)`                                                     \n",
        "\n",
        "Expected output:  \n",
        "Season is autumn  \n",
        "\n",
        "*Note: this will require multiple `and` or `or` operators and you should use brackets to help Python know which operations to do first*  \n",
        "\n",
        "*For an extra challenge you could check that the day is valid for the month and print an error if so*"
      ]
    },
    {
      "cell_type": "code",
      "metadata": {
        "id": "cvbfz8nzG4IL"
      },
      "source": [],
      "execution_count": null,
      "outputs": []
    }
  ]
}