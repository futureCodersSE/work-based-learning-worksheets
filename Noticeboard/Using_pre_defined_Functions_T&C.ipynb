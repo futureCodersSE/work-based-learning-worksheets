{
  "nbformat": 4,
  "nbformat_minor": 0,
  "metadata": {
    "colab": {
      "provenance": [],
      "include_colab_link": true
    },
    "kernelspec": {
      "name": "python3",
      "display_name": "Python 3"
    },
    "language_info": {
      "name": "python"
    }
  },
  "cells": [
    {
      "cell_type": "markdown",
      "metadata": {
        "id": "view-in-github",
        "colab_type": "text"
      },
      "source": [
        "<a href=\"https://colab.research.google.com/github/futureCodersSE/work-based-learning-worksheets/blob/main/Noticeboard/Using_pre_defined_Functions_T%26C.ipynb\" target=\"_parent\"><img src=\"https://colab.research.google.com/assets/colab-badge.svg\" alt=\"Open In Colab\"/></a>"
      ]
    },
    {
      "cell_type": "markdown",
      "metadata": {
        "id": "0T-HIDf3FgQK"
      },
      "source": [
        "# Python functions\n",
        "\n",
        "---"
      ]
    },
    {
      "cell_type": "markdown",
      "metadata": {
        "id": "YM-csYt5FrvE"
      },
      "source": [
        "You have already been using functions that are provided with Python  \n",
        "*  print()\n",
        "*  input()\n",
        "*  randint() *(from random)*\n",
        "\n",
        "You can tell that they are functions because they have brackets after the name. Often there is some data in the brackets (ie something that you want the function to use on this occasion)\n",
        "\n",
        "*  print(\"Hello\")\n",
        "*  input(\"What is your name? \")\n",
        "*  randint(1,6) *(from the random function library)*\n",
        "\n",
        "The data is called a *parameter* or an *argument*.  There can be any number of parameters passed to a function.  Order is important but can sometimes be overridden.\n",
        "\n",
        "Some functions just do something (e.g. print(\"Hello\") will just print the word Hello).\n",
        "\n",
        "Other functions produce some new data which you will assign to a variable:  \n",
        "```\n",
        "category = input(\"Which category do you want? \")  \n",
        "dice_roll = randint(1,6)\n",
        "```\n",
        "\n",
        "Each time you use a function's name in your program, or in another function, you are calling it and it will run.\n",
        "\n"
      ]
    },
    {
      "cell_type": "code",
      "source": [],
      "metadata": {
        "id": "BlfBlO5AJSO8"
      },
      "execution_count": null,
      "outputs": []
    },
    {
      "cell_type": "markdown",
      "metadata": {
        "id": "Gzod-awDOrGj"
      },
      "source": [
        "---\n",
        "### Exercise 1 - len() of a string\n",
        "\n",
        "Write a function called **get_access_code()** which will get a code of 5 characters:  \n",
        "\n",
        "*  assign the value \"\" to a variable called **access_code**  \n",
        "*  start a while loop that will continue to loop while the length of `access code` is not 5 characters    \n",
        "*  in the loop:  ask the user to enter a `code`\n",
        "*  after the loop, return the code to the calling program, which will print the valid access code.  \n",
        "\n",
        "Test input:  \n",
        "12345678\n",
        "123  \n",
        "12345  \n",
        "\n",
        "Expected output:  \n",
        "12345  "
      ]
    },
    {
      "cell_type": "code",
      "metadata": {
        "id": "VC1h1g3cFb11"
      },
      "source": [
        "def get_access_code():\n",
        "  # add your code below here\n",
        "\n",
        "\n",
        "\n",
        "print(get_access_code())"
      ],
      "execution_count": null,
      "outputs": []
    },
    {
      "cell_type": "markdown",
      "metadata": {
        "id": "pTC1HwRUQMSa"
      },
      "source": [
        "---\n",
        "### Exercise 2 - lower case email\n",
        "\n",
        "Write a function called **get_email_address()** which will:  \n",
        "\n",
        "*  ask the user for an **email**  \n",
        "*  convert the `email` to lower case and assign the new value to a variable called **email_lower**   \n",
        "* if `email_lower` is \"dee@futurecoders.org.uk\" then return \"Valid email\", otherwise return \"Invalid email\".  The calling program will print the message.  \n",
        "\n",
        "Test input:  \n",
        "futurecoders.org.uk\n",
        "\n",
        "Expected output:  \n",
        "Invalid username\n",
        "\n",
        "Test input:  \n",
        "dee@futurecoders.org.uk\n",
        "\n",
        "Expected output:  \n",
        "Valid user  \n"
      ]
    },
    {
      "cell_type": "code",
      "metadata": {
        "id": "0vusDz8YQMdB"
      },
      "source": [
        "def get_username():\n",
        "  # add your code below here\n",
        "\n",
        "\n",
        "\n",
        "print(get_username())"
      ],
      "execution_count": null,
      "outputs": []
    },
    {
      "cell_type": "markdown",
      "metadata": {
        "id": "SUcNgc6bRfha"
      },
      "source": [
        "---\n",
        "### Exercise 3 - select correct message\n",
        "\n",
        "Write a function called **get_preferences()** which will:  \n",
        "\n",
        "*  ask the user to enter a 5 digit **access code**  \n",
        "*  return one of the following messages:\n",
        "*  *  \"Just loading your preferences\"  \n",
        "*  *  \"Invalid user\"  \n",
        "*  *  \"access code too short \"  \n",
        "\n",
        "Note:  `access_code` must be \"98765\".  The calling program will print the message.  \n",
        "\n",
        "Test input:  \n",
        "98765\n",
        "\n",
        "Expected output:  \n",
        "Just loading your preferences\n",
        "\n",
        "Test input:  \n",
        "987\n",
        "\n",
        "Expected output:  \n",
        "access code too short  \n",
        "\n",
        "Test input:  \n",
        "12345\n",
        "\n",
        "Expected output:  \n",
        "Invalid user  "
      ]
    },
    {
      "cell_type": "code",
      "metadata": {
        "id": "GUjr6u9sRfrh"
      },
      "source": [],
      "execution_count": null,
      "outputs": []
    },
    {
      "cell_type": "markdown",
      "metadata": {
        "id": "oVIw8G_FTWoS"
      },
      "source": [
        "---\n",
        "### Exercise 3 - round to given dp\n",
        "\n",
        "Write a function called **get_rounded_float()** which will:  \n",
        "\n",
        "*  ask the user for a decimal **number**  \n",
        "*  ask the user for a number of **places** to round to  \n",
        "*  return the number rounded to the requested number of decimal places\n",
        "\n",
        "Note:  The calling program will print the number.  \n",
        "\n",
        "Test input:  \n",
        "3.14159  \n",
        "2\n",
        "\n",
        "Expected output:  \n",
        "3.14  \n",
        "\n",
        "Test input:  \n",
        "98.6666666666666  \n",
        "4  \n",
        "\n",
        "Expected output:  \n",
        "98.6667  "
      ]
    },
    {
      "cell_type": "code",
      "metadata": {
        "id": "AHKffkJbTWxS"
      },
      "source": [],
      "execution_count": null,
      "outputs": []
    },
    {
      "cell_type": "markdown",
      "source": [
        "**NOTE:**\n",
        "\n",
        "The following exercises have not been tailored for Town and Country, but will develop your learning if you wish to continue. "
      ],
      "metadata": {
        "id": "-TtoZ3kmMYtf"
      }
    },
    {
      "cell_type": "markdown",
      "metadata": {
        "id": "x4Nl2CQ3T9Aj"
      },
      "source": [
        "---\n",
        "### Exercise 4 - round or not\n",
        "\n",
        "Write a function called **get_rounded_float()** which will:  \n",
        "\n",
        "*  ask the user for a decimal **number**  \n",
        "*  ask the user if they would like to round the number (Y or N) assign this value to **round_number**\n",
        "*  if `round_number` is \"Y\", then ask the user for a number of **places** to round to and return the number rounded to the required number of decimal places  \n",
        "*  otherwise, return the number as it was typed in\n",
        "\n",
        "Note:  The calling program will print the number.  \n",
        "\n",
        "Test input:  \n",
        "3.14159  \n",
        "Y  \n",
        "3\n",
        "\n",
        "Expected output:  \n",
        "3.142\n",
        "\n",
        "Test input:  \n",
        "98.6666666666666  \n",
        "N\n",
        "\n",
        "Expected output:  \n",
        "98.6666666666666  "
      ]
    },
    {
      "cell_type": "code",
      "metadata": {
        "id": "kzLHRud6T9Lo"
      },
      "source": [],
      "execution_count": null,
      "outputs": []
    },
    {
      "cell_type": "markdown",
      "metadata": {
        "id": "o2Hl9tOFVA17"
      },
      "source": [
        "---\n",
        "### Exercise 5 - random number and places\n",
        "\n",
        "Write a function called **generate_rounded_float()** which will:  \n",
        "\n",
        "*  import the functions uniform and randint from random (from random import uniform, randint)    \n",
        "Note *: the uniform function will generate a random float between two given boundary numbers ( e.g. number = uniform(10,20)).  It is better practice to name the functions you will be using from a library rather than importing the whole library, which could be large*  \n",
        "\n",
        "*  generate a random decimal **number** between 1 and 100   \n",
        "*  print the `number`   \n",
        "*  generate a random integer **places** between 1 and 4\n",
        "*  print `places`\n",
        "*  return the `number` rounded to the given number of `places`\n",
        "\n",
        "Note **bold text**:  The calling program will print the number.  \n",
        "\n",
        "**Example 1:**  \n",
        "Random number is 3.14159  \n",
        "Number of places is 3  \n",
        "\n",
        "Expected result: 3.142 \n",
        "\n",
        "**Example 2**:  \n",
        "Random number is 98.6666666666666  \n",
        "Number of places is 4  \n",
        "\n",
        "Expected result: 98.6667 "
      ]
    },
    {
      "cell_type": "code",
      "metadata": {
        "id": "c5ufi-U-VBB5"
      },
      "source": [],
      "execution_count": null,
      "outputs": []
    }
  ]
}